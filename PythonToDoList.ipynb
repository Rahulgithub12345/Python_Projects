{
 "cells": [
  {
   "cell_type": "code",
   "execution_count": null,
   "id": "683c820a",
   "metadata": {},
   "outputs": [],
   "source": [
    "import tkinter as tk\n",
    "\n",
    "def add_task():\n",
    "    task = task_entry.get()\n",
    "    if task:\n",
    "        tasks.append({\"task\": task, \"completed\": False})\n",
    "        update_task_list()\n",
    "        task_entry.delete(0, tk.END)\n",
    "\n",
    "def mark_completed():\n",
    "    selected_task = task_listbox.curselection()\n",
    "    if selected_task:\n",
    "        task_index = selected_task[0]\n",
    "        tasks[task_index][\"completed\"] = True\n",
    "        update_task_list()\n",
    "\n",
    "def remove_task():\n",
    "    selected_task = task_listbox.curselection()\n",
    "    if selected_task:\n",
    "        task_index = selected_task[0]\n",
    "        del tasks[task_index]\n",
    "        update_task_list()\n",
    "\n",
    "def update_task_list():\n",
    "    task_listbox.delete(0, tk.END)\n",
    "    for task in tasks:\n",
    "        status = \"Done\" if task[\"completed\"] else \"Not Done\"\n",
    "        task_listbox.insert(tk.END, f\"{task['task']} - {status}\")\n",
    "\n",
    "tasks = []\n",
    "\n",
    "root = tk.Tk()\n",
    "root.title(\"To-Do List\")\n",
    "\n",
    "task_label = tk.Label(root, text=\"Enter Task:\")\n",
    "task_label.pack()\n",
    "\n",
    "task_entry = tk.Entry(root, width=40)\n",
    "task_entry.pack()\n",
    "\n",
    "add_button = tk.Button(root, text=\"Add Task\", command=add_task)\n",
    "add_button.pack()\n",
    "\n",
    "task_listbox = tk.Listbox(root, width=50)\n",
    "task_listbox.pack()\n",
    "\n",
    "mark_button = tk.Button(root, text=\"Mark as Completed\", command=mark_completed)\n",
    "mark_button.pack()\n",
    "\n",
    "remove_button = tk.Button(root, text=\"Remove Task\", command=remove_task)\n",
    "remove_button.pack()\n",
    "\n",
    "update_task_list()\n",
    "\n",
    "root.mainloop()\n"
   ]
  },
  {
   "cell_type": "code",
   "execution_count": null,
   "id": "ca590a3f",
   "metadata": {},
   "outputs": [],
   "source": []
  }
 ],
 "metadata": {
  "kernelspec": {
   "display_name": "Python 3",
   "language": "python",
   "name": "python3"
  },
  "language_info": {
   "codemirror_mode": {
    "name": "ipython",
    "version": 3
   },
   "file_extension": ".py",
   "mimetype": "text/x-python",
   "name": "python",
   "nbconvert_exporter": "python",
   "pygments_lexer": "ipython3",
   "version": "3.8.8"
  }
 },
 "nbformat": 4,
 "nbformat_minor": 5
}
